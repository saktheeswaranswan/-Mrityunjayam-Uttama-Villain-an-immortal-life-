{
  "nbformat": 4,
  "nbformat_minor": 0,
  "metadata": {
    "colab": {
      "provenance": [],
      "gpuType": "T4",
      "authorship_tag": "ABX9TyNJbODHJa1S3HPvVnBDkAvg",
      "include_colab_link": true
    },
    "kernelspec": {
      "name": "python3",
      "display_name": "Python 3"
    },
    "language_info": {
      "name": "python"
    },
    "accelerator": "GPU"
  },
  "cells": [
    {
      "cell_type": "markdown",
      "metadata": {
        "id": "view-in-github",
        "colab_type": "text"
      },
      "source": [
        "<a href=\"https://colab.research.google.com/github/saktheeswaranswan/-Mrityunjayam-Uttama-Villain-an-immortal-life-/blob/main/cellular_automata_in_fem.ipynb\" target=\"_parent\"><img src=\"https://colab.research.google.com/assets/colab-badge.svg\" alt=\"Open In Colab\"/></a>"
      ]
    },
    {
      "cell_type": "code",
      "execution_count": 6,
      "metadata": {
        "colab": {
          "base_uri": "https://localhost:8080/",
          "height": 435
        },
        "id": "89gU4lhOQvmv",
        "outputId": "e2843168-df45-4b03-ebee-8b7689d0ed1c"
      },
      "outputs": [
        {
          "output_type": "display_data",
          "data": {
            "text/plain": [
              "<Figure size 640x480 with 1 Axes>"
            ],
            "image/png": "[encoded data removed]"
          },
          "metadata": {}
        }
      ],
      "source": [
        "import csv\n",
        "import numpy as np\n",
        "import matplotlib.pyplot as plt\n",
        "from scipy.sparse import coo_matrix\n",
        "\n",
        "# Load CSV file and extract indices\n",
        "indices = []\n",
        "with open('indices.csv', 'r') as file:\n",
        "    csv_reader = csv.reader(file)\n",
        "    next(csv_reader)  # Skip header row\n",
        "    for row in csv_reader:\n",
        "        indices.append((int(row[0]), int(row[1])))\n",
        "\n",
        "# Create sparse matrix\n",
        "data = np.ones(len(indices))\n",
        "i, j = zip(*indices)\n",
        "sparse_matrix = coo_matrix((data, (i, j)), shape=(10, 10))\n",
        "\n",
        "# Plot sparse array\n",
        "plt.spy(sparse_matrix, markersize=5)\n",
        "plt.show()\n"
      ]
    },
    {
      "cell_type": "code",
      "source": [
        "i,j\n",
        "0,0\n",
        "1,3\n",
        "2,1\n",
        "3,2\n",
        "4,5\n"
      ],
      "metadata": {
        "id": "RxadXKHaRxy3"
      },
      "execution_count": null,
      "outputs": []
    },
    {
      "cell_type": "code",
      "source": [
        "import csv\n",
        "import numpy as np\n",
        "import matplotlib.pyplot as plt\n",
        "from scipy.sparse import coo_matrix, save_npz\n",
        "\n",
        "# Load CSV file and extract indices\n",
        "indices = []\n",
        "with open('indices.csv', 'r') as file:\n",
        "    csv_reader = csv.reader(file)\n",
        "    next(csv_reader)  # Skip header row\n",
        "    for row in csv_reader:\n",
        "        indices.append((int(row[0]), int(row[1])))\n",
        "\n",
        "# Create sparse matrix\n",
        "data = np.ones(len(indices))\n",
        "i, j = zip(*indices)\n",
        "sparse_matrix = coo_matrix((data, (i, j)), shape=(1000, 1000))\n",
        "\n",
        "# Export sparse matrix\n",
        "save_npz('sparse_matrix.npz', sparse_matrix)\n",
        "\n",
        "# Plot sparse array\n",
        "plt.spy(sparse_matrix, markersize=1)\n",
        "plt.show()\n"
      ],
      "metadata": {
        "id": "ILuDg0SCRzIy",
        "outputId": "7a96be98-be16-417b-a968-810cee019da0",
        "colab": {
          "base_uri": "https://localhost:8080/",
          "height": 435
        }
      },
      "execution_count": 7,
      "outputs": [
        {
          "output_type": "display_data",
          "data": {
            "text/plain": [
              "<Figure size 640x480 with 1 Axes>"
            ],
            "image/png": "[encoded data removed]"
          },
          "metadata": {}
        }
      ]
    },
    {
      "cell_type": "code",
      "source": [
        "import csv\n",
        "import numpy as np\n",
        "import matplotlib.pyplot as plt\n",
        "from scipy.sparse import coo_matrix\n",
        "\n",
        "# Load CSV file and extract indices\n",
        "indices = []\n",
        "with open('indices.csv', 'r') as file:\n",
        "    csv_reader = csv.reader(file)\n",
        "    next(csv_reader)  # Skip header row\n",
        "    for row in csv_reader:\n",
        "        indices.append((int(row[0]), int(row[1])))\n",
        "\n",
        "# Create sparse matrix\n",
        "data = np.ones(len(indices))\n",
        "i, j = zip(*indices)\n",
        "sparse_matrix = coo_matrix((data, (i, j)), shape=(10, 10))\n",
        "\n",
        "# Convert sparse matrix to dense matrix\n",
        "dense_matrix = sparse_matrix.toarray()\n",
        "\n",
        "# Export dense matrix as Python syntax\n",
        "with open('sparse_matrix.py', 'w') as file:\n",
        "    file.write(\"import numpy as np\\n\\n\")\n",
        "    file.write(\"sparse_matrix = np.array(\")\n",
        "    np.savetxt(file, dense_matrix, fmt='%d', delimiter=',')\n",
        "    file.write(\")\")\n",
        "\n",
        "# Plot sparse array\n",
        "plt.spy(sparse_matrix, markersize=8)\n",
        "plt.show()\n"
      ],
      "metadata": {
        "id": "Xfpq4YsySFcs",
        "outputId": "e85bb4e8-9dbe-4a4a-d561-727a763a97ca",
        "colab": {
          "base_uri": "https://localhost:8080/",
          "height": 435
        }
      },
      "execution_count": 10,
      "outputs": [
        {
          "output_type": "display_data",
          "data": {
            "text/plain": [
              "<Figure size 640x480 with 1 Axes>"
            ],
            "image/png": "[encoded data removed]"
          },
          "metadata": {}
        }
      ]
    }
  ]
}